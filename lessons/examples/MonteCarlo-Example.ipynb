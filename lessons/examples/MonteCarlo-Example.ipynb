{
 "cells": [
  {
   "cell_type": "code",
   "execution_count": 1,
   "id": "571da44b",
   "metadata": {},
   "outputs": [
    {
     "name": "stdout",
     "output_type": "stream",
     "text": [
      "Using matplotlib backend: Qt5Agg\n",
      "Enter the number of iterations: 100\n",
      "3.24\n"
     ]
    }
   ],
   "source": [
    "import numpy as np\n",
    "import matplotlib.pyplot as plt\n",
    "from mpl_toolkits.mplot3d import Axes3D\n",
    "%matplotlib\n",
    "from pylab import *\n",
    "\n",
    "#Initializing the x and y arrays and taking the number of iterations\n",
    "\n",
    "numits = int(input(\"Enter the number of iterations: \"))\n",
    "\n",
    "xarr=[]\n",
    "yarr=[]\n",
    "\n",
    "#Adding random points into the plot\n",
    "\n",
    "i = 0\n",
    "while i < numits:\n",
    "    xarr.append(np.random.uniform(0,1))\n",
    "    yarr.append(np.random.uniform(0,1))\n",
    "    i += 1\n",
    "    \n",
    "#Overlaying the circle and plotting everything\n",
    "\n",
    "fig, ax = plt.subplots() \n",
    "\n",
    "plt.plot(xarr, yarr, linestyle=\"\", marker=\"o\")\n",
    "circle = plt.Circle((0.5,0.5), 0.5, color=\"r\")\n",
    "\n",
    "\n",
    "ax.add_patch(circle)\n",
    "\n",
    "plt.show()\n",
    "\n",
    "#Finding out which points lie inside the circle and using the fraction of the approximate areas of the shapes \n",
    "#to esimate pi\n",
    "\n",
    "i = 0\n",
    "countin=0\n",
    "while i < numits:\n",
    "    r = np.sqrt((xarr[i]-0.5)**2 + (yarr[i]-0.5)**2)\n",
    "    if r <= 0.5:\n",
    "        countin+=1\n",
    "    i += 1\n",
    "    \n",
    "countout = numits - countin\n",
    "    \n",
    "#Using area_circle/area_square is proportional to pi*r**2/(2r)**2 = pi/4\n",
    "\n",
    "pi = 4*float(countin)/float(numits)\n",
    "\n",
    "print(pi)"
   ]
  },
  {
   "cell_type": "code",
   "execution_count": null,
   "id": "1a397c43",
   "metadata": {},
   "outputs": [],
   "source": []
  }
 ],
 "metadata": {
  "kernelspec": {
   "display_name": "Python 3 (ipykernel)",
   "language": "python",
   "name": "python3"
  },
  "language_info": {
   "codemirror_mode": {
    "name": "ipython",
    "version": 3
   },
   "file_extension": ".py",
   "mimetype": "text/x-python",
   "name": "python",
   "nbconvert_exporter": "python",
   "pygments_lexer": "ipython3",
   "version": "3.9.7"
  }
 },
 "nbformat": 4,
 "nbformat_minor": 5
}
