{
 "cells": [
  {
   "cell_type": "markdown",
   "metadata": {
    "slideshow": {
     "slide_type": "slide"
    }
   },
   "source": [
    "# How to Use Jupyter Notebooks"
   ]
  },
  {
   "cell_type": "markdown",
   "metadata": {
    "slideshow": {
     "slide_type": "slide"
    }
   },
   "source": [
    "## Starting a notebook\n",
    "\n",
    "1. ```cd``` to where you want to create your notebook\n",
    "2. Open you shell program:\n",
    "    * Mac: terminal\n",
    "    * Windows: git-bash or Cigwyn\n",
    "    * Unix/Linux: ?\n",
    "3. Type: ```jupyter notebook```\n",
    "4. Wait. This might take a minute or two - this should bring up a page in your web browser with a URL that starts with \"localhost\"\n",
    "5. Click your \"yes\" button on Zoom when you reach this point. Please click your \"no\" button if you need help"
   ]
  },
  {
   "cell_type": "markdown",
   "metadata": {
    "slideshow": {
     "slide_type": "slide"
    }
   },
   "source": [
    "## Opening a notebook\n",
    "\n",
    "1. In the upper right part of your screen select **Python 3** from the **New** menu\n",
    "2. This will open a new browser window with cells\n",
    "3. Click your \"yes\" button on Zoom when you reach this point. Please click your \"no\" button if you need help\n"
   ]
  },
  {
   "cell_type": "markdown",
   "metadata": {
    "slideshow": {
     "slide_type": "slide"
    }
   },
   "source": [
    "## Getting started:\n",
    "\n",
    "1. Rename your notebook by clicking on **Untitled** word in the upper left corner\n",
    "2. Save your notebook by clicking on the picture of a floppy disk under the file menu\n",
    "3. Click your \"yes\" button on Zoom when you reach this point. Please click your \"no\" button if you need help"
   ]
  },
  {
   "cell_type": "markdown",
   "metadata": {
    "slideshow": {
     "slide_type": "slide"
    }
   },
   "source": [
    "## Code Cells\n",
    "1. Click in a cell and type ```print('hello world')```\n",
    "2. You can click the **Run** button in the top menu or *shift*+*enter* to execute the cell"
   ]
  },
  {
   "cell_type": "code",
   "execution_count": 1,
   "metadata": {
    "slideshow": {
     "slide_type": "subslide"
    }
   },
   "outputs": [
    {
     "name": "stdout",
     "output_type": "stream",
     "text": [
      "hello world\n"
     ]
    }
   ],
   "source": [
    "print('hello world')"
   ]
  },
  {
   "cell_type": "markdown",
   "metadata": {
    "slideshow": {
     "slide_type": "subslide"
    }
   },
   "source": [
    "## Code Cells Cont.\n",
    "3. Cells can have multiple lines and will return the last line of the cell as output\n",
    "4. Cells are numbered in the order of execution\n",
    "5. **+** button adds a new cell below\n",
    "6. **up** and **down** arrows move a cell up or down in the notebook\n",
    "7. **Square** button stops the execution of a single cell\n",
    "8. **circle arrow** button restarts the kernel, restarting the notebook execution\n",
    "9. Notebooks support tab completion"
   ]
  },
  {
   "cell_type": "markdown",
   "metadata": {
    "slideshow": {
     "slide_type": "slide"
    }
   },
   "source": [
    "## Notebook modes\n",
    "* Edit mode (green bar): entering text, executing cells\n",
    "    - Activate by hitting *enter*\n",
    "* Command mode (blue bar): keyboard shortcuts\n",
    "    - Activate by hitting *escape*\n",
    "* My most used command mode shortcuts (all executed in command mode):\n",
    "    1. **a**: add cell above\n",
    "    2. **b**: add cell below\n",
    "    3. **dd**: delete cell\n",
    "    4. **y**: make cell a code cell\n",
    "    5. **m**: make cell a markdown cell\n",
    "* A full list of shortcuts can be found in the **Help** menu"
   ]
  },
  {
   "cell_type": "markdown",
   "metadata": {
    "slideshow": {
     "slide_type": "slide"
    }
   },
   "source": [
    "## Markdown: write formatted text\n",
    "\n",
    "### Headings:\n",
    "* \\#: level 1 heading\n",
    "* \\##: level 2 heading\n",
    "* etc. (note a space after the last \\# is important\n",
    "\n",
    "### Lists:\n",
    "- use symbol (*, -) to start a bulleted list\n",
    "- use numbers to create a numbered list\n",
    "- use indentation to denote levels of indentation"
   ]
  },
  {
   "cell_type": "markdown",
   "metadata": {
    "slideshow": {
     "slide_type": "subslide"
    }
   },
   "source": [
    "## Markdown: cont. \n",
    "\n",
    "### Equations:\n",
    "* Use \\$ and Latex syntax\n",
    "* e.g. $F_{g} = G\\frac{m_{1}m_{2}}{r^{2}}$\n",
    "\n",
    "### Hyperlinks:\n",
    "* \\[ link text \\]\\( url \\)\n",
    "* e.g. [I'm an inline-style link](https://www.google.com)"
   ]
  },
  {
   "cell_type": "markdown",
   "metadata": {
    "slideshow": {
     "slide_type": "slide"
    }
   },
   "source": [
    "## Homework in the Notebook\n",
    "\n",
    "I expect you to utilize markdown to explain your code to me"
   ]
  },
  {
   "cell_type": "markdown",
   "metadata": {
    "slideshow": {
     "slide_type": "slide"
    }
   },
   "source": [
    "## Leaving the Notebook\n",
    "1. Save your notebook\n",
    "2. Close browser window(s)\n",
    "3. Type ```control+c``` twice in your shell"
   ]
  },
  {
   "cell_type": "markdown",
   "metadata": {
    "slideshow": {
     "slide_type": "slide"
    }
   },
   "source": [
    "# Alternate ways to start jupyter notebooks\n",
    "## Jupyter Lab\n",
    "* A more integrated environment across multiple notebooks\n",
    "* enables copy and pasting between notebooks\n",
    "* opens all notebooks in a single browser tab\n",
    "* start using ```jupyter lab``` rather than ```jupyter notebook```\n",
    "## Single notebooks\n",
    "* ```jupyter notebook NotebookName.ipynb```\n",
    "* Skip home browser window"
   ]
  }
 ],
 "metadata": {
  "celltoolbar": "Slideshow",
  "kernelspec": {
   "display_name": "Python 3",
   "language": "python",
   "name": "python3"
  },
  "language_info": {
   "codemirror_mode": {
    "name": "ipython",
    "version": 3
   },
   "file_extension": ".py",
   "mimetype": "text/x-python",
   "name": "python",
   "nbconvert_exporter": "python",
   "pygments_lexer": "ipython3",
   "version": "3.9.0"
  }
 },
 "nbformat": 4,
 "nbformat_minor": 2
}
