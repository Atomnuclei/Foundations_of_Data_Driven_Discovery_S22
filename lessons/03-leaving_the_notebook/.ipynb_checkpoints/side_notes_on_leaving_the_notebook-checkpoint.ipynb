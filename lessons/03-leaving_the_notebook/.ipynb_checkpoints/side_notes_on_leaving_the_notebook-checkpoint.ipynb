{
 "cells": [
  {
   "cell_type": "markdown",
   "metadata": {
    "slideshow": {
     "slide_type": "slide"
    }
   },
   "source": [
    "# Jupyter to Script\n",
    "\n",
    "If you have a jupyter notebook you would like to convert to a script to be called in command line.\n",
    "\n",
    "``` $ jupyter nbconvert --to script [YOUR_NOTEBOOK].ipynb ```"
   ]
  },
  {
   "cell_type": "code",
   "execution_count": null,
   "metadata": {
    "slideshow": {
     "slide_type": "subslide"
    }
   },
   "outputs": [],
   "source": [
    "You can even do this inside the notebook by calling.\n",
    "\n",
    "!jupyter nbconvert --to script [YOUR_NOTEBOOK].ipynb "
   ]
  },
  {
   "cell_type": "markdown",
   "metadata": {
    "slideshow": {
     "slide_type": "slide"
    }
   },
   "source": [
    "# Ways to have your code in your path:\n",
    "* Be in the same directory as your file (this is what we will do today)\n",
    "* Add the directory containing the file to your PATH\n",
    "* Make your file into a package and install it (note: the book has a chapter on this and we may touch on it when Brent guess lectures)"
   ]
  },
  {
   "cell_type": "markdown",
   "metadata": {
    "slideshow": {
     "slide_type": "slide"
    }
   },
   "source": [
    "# Sidenote: Where do your tests go?\n",
    "* 1-file projects:\n",
    "    - in a file next to your code with a filename that starts with the word test\n",
    "* Packages and modules:\n",
    "    - Project level directory\n",
    "        * code/src directory\n",
    "        * tests directory"
   ]
  },
  {
   "cell_type": "code",
   "execution_count": null,
   "metadata": {},
   "outputs": [],
   "source": [
    "! jupyter nbconvert slid_note_on_leaving_the_notebook.ipynb --to slides --post serve"
   ]
  }
 ],
 "metadata": {
  "celltoolbar": "Slideshow",
  "kernelspec": {
   "display_name": "py37",
   "language": "python",
   "name": "py37"
  },
  "language_info": {
   "codemirror_mode": {
    "name": "ipython",
    "version": 3
   },
   "file_extension": ".py",
   "mimetype": "text/x-python",
   "name": "python",
   "nbconvert_exporter": "python",
   "pygments_lexer": "ipython3",
   "version": "3.7.6"
  }
 },
 "nbformat": 4,
 "nbformat_minor": 2
}
