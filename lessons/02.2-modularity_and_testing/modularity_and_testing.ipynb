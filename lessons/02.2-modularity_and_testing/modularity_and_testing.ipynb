{
 "cells": [
  {
   "cell_type": "markdown",
   "metadata": {
    "slideshow": {
     "slide_type": "slide"
    }
   },
   "source": [
    "# Modularity and Testing"
   ]
  },
  {
   "cell_type": "markdown",
   "metadata": {
    "slideshow": {
     "slide_type": "slide"
    }
   },
   "source": [
    "# How I learned to write code\n",
    "* Script\n",
    "* One command after the other\n",
    "* ... for thousands of lines\n",
    "* like a book with no formatting, no paragraphs, no chapters"
   ]
  },
  {
   "cell_type": "markdown",
   "metadata": {
    "slideshow": {
     "slide_type": "slide"
    }
   },
   "source": [
    "# Modularity\n",
    "\n",
    "**breaking code into logically grouped pieces that can be strung together in different ways**"
   ]
  },
  {
   "cell_type": "markdown",
   "metadata": {
    "slideshow": {
     "slide_type": "slide"
    }
   },
   "source": [
    "# Tools of Modularity:\n",
    "* packages (e.g. numpy)\n",
    "* modules (e.g. numpy.random)\n",
    "* classes (e.g np.ndarray)\n",
    "* **functions** (e.g. numpy.random.randomn)\n",
    "\n",
    "\n"
   ]
  },
  {
   "cell_type": "markdown",
   "metadata": {
    "slideshow": {
     "slide_type": "slide"
    }
   },
   "source": [
    "# Why make your code modular?\n",
    "\n",
    "1. Organization and Readibility\n",
    "2. Reusability\n",
    "3. Testability"
   ]
  },
  {
   "cell_type": "markdown",
   "metadata": {
    "slideshow": {
     "slide_type": "slide"
    }
   },
   "source": [
    "# 1. Organization and Readability\n",
    "\n",
    "* Break code into individual thoughts\n",
    "* Allows reader to get a high level overview and dig deeper if needed"
   ]
  },
  {
   "cell_type": "code",
   "execution_count": 1,
   "metadata": {
    "slideshow": {
     "slide_type": "subslide"
    }
   },
   "outputs": [],
   "source": [
    "my_list = [1,2, 5, 7, 9, 4, 5, 4]\n",
    "#find the total \n",
    "total=0\n",
    "for num in my_list:\n",
    "    total = total + num\n",
    "#Calc mean\n",
    "mean = total/len(my_list)"
   ]
  },
  {
   "cell_type": "code",
   "execution_count": 2,
   "metadata": {
    "slideshow": {
     "slide_type": "subslide"
    }
   },
   "outputs": [],
   "source": [
    "def calc_total(my_list):\n",
    "    '''\n",
    "    Calculate the sum of all elements in a list\n",
    "    Inputs: \n",
    "        my_list: list of numbers\n",
    "    Outputs:\n",
    "        total: sum of all elements in the input list\n",
    "    '''\n",
    "    total=0\n",
    "    for num in my_list:\n",
    "        total = total + num\n",
    "    return total\n",
    "\n",
    "def calc_mean(my_list):\n",
    "    '''\n",
    "    calculate the mean of an input list\n",
    "    Input:\n",
    "        my_list: a list of numbers\n",
    "    Output:\n",
    "        mean: the mean of the input list\n",
    "    '''\n",
    "    total = calc_total(my_list)\n",
    "    list_len = len(my_list)\n",
    "    mean = total/list_len\n",
    "    return mean"
   ]
  },
  {
   "cell_type": "code",
   "execution_count": 3,
   "metadata": {
    "slideshow": {
     "slide_type": "subslide"
    }
   },
   "outputs": [],
   "source": [
    "my_list = [1,2, 5, 7, 9, 4, 5, 4]\n",
    "mean = calc_mean(my_list)"
   ]
  },
  {
   "cell_type": "markdown",
   "metadata": {
    "slideshow": {
     "slide_type": "slide"
    }
   },
   "source": [
    "# 2. Reusability\n",
    "\n",
    "* Avoid copying and pasting\n",
    "    - avoid forgetting to update a variable\n",
    "    - avoid having to fix bugs in multiple places\n",
    "* Don't have to reimplement every time\n",
    "* e.g. once you've written your calc_mean, you can calculate the mean of any list in any piece of code\n",
    "* Make code more flexible"
   ]
  },
  {
   "cell_type": "markdown",
   "metadata": {
    "slideshow": {
     "slide_type": "slide"
    }
   },
   "source": [
    "# 3. Testability\n",
    "\n",
    "* Much easier to identify unique failure modes for small chunks of code that have a single purpose (e.g. calculate the median)\n",
    "* --> much easier to test an individual function than a pipeline or a script"
   ]
  },
  {
   "cell_type": "markdown",
   "metadata": {
    "slideshow": {
     "slide_type": "subslide"
    }
   },
   "source": [
    "# Testing\n",
    "\n",
    "1. How do you know if your code does what you think it does? You test it\n",
    "2. How do you make sure you code keeps doing what you think it should do? Write automated tests\n",
    "\n",
    "Scientists are good at the first one, but not as great with the second one"
   ]
  },
  {
   "cell_type": "markdown",
   "metadata": {
    "slideshow": {
     "slide_type": "subslide"
    }
   },
   "source": [
    "# Types of Testing\n",
    "1. Defensive programming: inline checking of code (e.g. asserting inputs have correct form)\n",
    "2. **Unit Tests**: testing the most basic components of your code (e.g. functions)\n",
    "3. Integration Tests: testing how those components interact\n",
    "4. Regression Test: testing if anything has changed since you last trusted your results\n"
   ]
  },
  {
   "cell_type": "code",
   "execution_count": 4,
   "metadata": {
    "slideshow": {
     "slide_type": "subslide"
    }
   },
   "outputs": [],
   "source": [
    "# Anatomy of a Unit Test\n",
    "\n",
    "def test_func():\n",
    "    expected = get_expected()\n",
    "    observed = func(*args, **kwargs)\n",
    "    assert expected == observed\n"
   ]
  },
  {
   "cell_type": "markdown",
   "metadata": {
    "slideshow": {
     "slide_type": "subslide"
    }
   },
   "source": [
    "# My testing philosophy for scientists\n",
    "* whatever testing you do to make sure your code does what you think it should do, put that code in an automated test\n",
    "* this includes:\n",
    "    - sanity checks\n",
    "    - comparison against previous results (write a file with the results you've verified)\n",
    "    - visual inspection (write it to a file and use in a regression test)"
   ]
  },
  {
   "cell_type": "markdown",
   "metadata": {
    "slideshow": {
     "slide_type": "subslide"
    }
   },
   "source": [
    "# Learn more:\n",
    "* Chapter 18 of textbook\n",
    "* https://realpython.com/python-testing/\n",
    "* tools: unittest, nose, pytest"
   ]
  },
  {
   "cell_type": "markdown",
   "metadata": {
    "slideshow": {
     "slide_type": "slide"
    }
   },
   "source": [
    "# 3. Testability\n",
    "\n",
    "* Much easier to identify unique failure modes for small chunks of code that have a single purpose (e.g. calculate the median)\n",
    "* --> much easier to test an individual function than a pipeline or a script"
   ]
  },
  {
   "cell_type": "markdown",
   "metadata": {
    "slideshow": {
     "slide_type": "slide"
    }
   },
   "source": [
    "# Suggestions for getting started:\n",
    "1. Write pseudo-code\n",
    "    * write a set of directions or commands\n",
    "    * each command will be a function\n",
    "2. (Optional) write your tests (aka test driven development; TDD)\n",
    "    * write tests for each function\n",
    "    * this seems to be easier in industry than in science\n",
    "3. Fill in your functions\n",
    "4. Write tests (if you haven't already done so)"
   ]
  }
 ],
 "metadata": {
  "celltoolbar": "Slideshow",
  "kernelspec": {
   "display_name": "Python 3",
   "language": "python",
   "name": "python3"
  },
  "language_info": {
   "codemirror_mode": {
    "name": "ipython",
    "version": 3
   },
   "file_extension": ".py",
   "mimetype": "text/x-python",
   "name": "python",
   "nbconvert_exporter": "python",
   "pygments_lexer": "ipython3",
   "version": "3.7.3"
  }
 },
 "nbformat": 4,
 "nbformat_minor": 2
}
