{
 "cells": [
  {
   "cell_type": "markdown",
   "metadata": {
    "collapsed": true
   },
   "source": [
    "### In this notebook, we will take our ugly spaghetti code and add abstraction through the use of functions to develope a 2 state and 3 state CA"
   ]
  },
  {
   "cell_type": "code",
   "execution_count": 1,
   "metadata": {
    "ExecuteTime": {
     "end_time": "2017-08-01T17:12:02.419290",
     "start_time": "2017-08-01T17:12:01.886340"
    }
   },
   "outputs": [],
   "source": [
    "import random\n",
    "from matplotlib import pyplot as plt\n",
    "%matplotlib inline"
   ]
  },
  {
   "cell_type": "markdown",
   "metadata": {},
   "source": [
    "The code below sets the jupyter notebook \"pager\" to print inline, so that it pager outputs can be viewed on GitHub without running the notebook"
   ]
  },
  {
   "cell_type": "code",
   "execution_count": 2,
   "metadata": {},
   "outputs": [],
   "source": [
    "def page_printer(data, start=0, screen_lines=0, pager_cmd=None):\n",
    "    if isinstance(data, dict):\n",
    "        data = data['text/plain']\n",
    "    print(data)\n",
    "\n",
    "import IPython.core.page\n",
    "IPython.core.page.page = page_printer"
   ]
  },
  {
   "cell_type": "markdown",
   "metadata": {},
   "source": [
    "Our ECA spaghetti code"
   ]
  },
  {
   "cell_type": "markdown",
   "metadata": {},
   "source": [
    "# Two State Functions"
   ]
  },
  {
   "cell_type": "code",
   "execution_count": 3,
   "metadata": {},
   "outputs": [],
   "source": [
    "def make_initial_conditions(length):\n",
    "    '''\n",
    "    Calculate a list of 0 and 1 to set initial CA conditions\n",
    "    \n",
    "    Inputs:\n",
    "    ----------\n",
    "    length: int\n",
    "        the length of the initial conditions\n",
    "        \n",
    "    Returns:\n",
    "    initial_condition: list\n",
    "        list with initial conditions\n",
    "    '''\n",
    "    initial_condition = []\n",
    "    for i in range(length):\n",
    "        initial_condition.append(random.randint(0,1))\n",
    "    return initial_condition"
   ]
  },
  {
   "cell_type": "code",
   "execution_count": 4,
   "metadata": {},
   "outputs": [],
   "source": [
    "def make_neighborhoods():\n",
    "    '''\n",
    "    Create neighborhoods in \n",
    "    \n",
    "    '''\n",
    "    neighborhoods = [(0,0,0), (0,0,1), (0,1,0), (0,1,1), (1,0,0), (1,0,1), (1,1,0), (1,1,1)]\n",
    "    return neighborhoods"
   ]
  },
  {
   "cell_type": "code",
   "execution_count": 5,
   "metadata": {},
   "outputs": [],
   "source": [
    "def convert_rule_to_binary(rule_number):\n",
    "    in_binary = bin(rule_number)[2:][::-1]\n",
    "    binary_length = len(in_binary)\n",
    "    if binary_length != 8:\n",
    "        padding = 8 - binary_length\n",
    "        in_binary = in_binary + '0'*padding\n",
    "    return in_binary"
   ]
  },
  {
   "cell_type": "code",
   "execution_count": 6,
   "metadata": {},
   "outputs": [],
   "source": [
    "def create_lookup_table(rule_number):\n",
    "    # create list of neighborhood tuples in lex. order\n",
    "    neighborhoods = make_neighborhoods()\n",
    "    \n",
    "    # convert the rule number to binary and pad with 0s as needed\n",
    "    in_binary = convert_rule_to_binary(rule_number)\n",
    "    \n",
    "    # create the lookup table dictionary\n",
    "    lookup_table = {key:int(val) for key, val in zip(neighborhoods, reversed(in_binary))}\n",
    "    return lookup_table"
   ]
  },
  {
   "cell_type": "code",
   "execution_count": 7,
   "metadata": {},
   "outputs": [],
   "source": [
    "def plot_spacetime_field(spacetime_field):    \n",
    "    # plot the spacetime field diagram\n",
    "    plt.figure(figsize=(12,12))\n",
    "    plt.imshow(spacetime_field, cmap=plt.cm.Greys, interpolation='nearest')\n",
    "    plt.show()"
   ]
  },
  {
   "cell_type": "code",
   "execution_count": 8,
   "metadata": {
    "ExecuteTime": {
     "end_time": "2017-08-01T17:12:40.766342",
     "start_time": "2017-08-01T17:12:40.032692"
    }
   },
   "outputs": [],
   "source": [
    "def evolve_CA(initial_condition, lookup_table, rule_number, time):\n",
    "\n",
    "    # initialize spacetime field and current configuration\n",
    "    spacetime_field = [initial_condition]\n",
    "    current_configuration = initial_condition.copy()\n",
    "    length = len(initial_condition)\n",
    "    # apply the lookup table to evolve the CA for the given number of time steps\n",
    "    for t in range(time):\n",
    "        new_configuration = []\n",
    "        for i in range(len(current_configuration)):\n",
    "\n",
    "            neighborhood = (current_configuration[(i-1)], \n",
    "                            current_configuration[i], \n",
    "                            current_configuration[(i+1)%length])\n",
    "\n",
    "            new_configuration.append(int(lookup_table[neighborhood]))\n",
    "\n",
    "        current_configuration = new_configuration\n",
    "        spacetime_field.append(new_configuration)\n",
    "    return spacetime_field"
   ]
  },
  {
   "cell_type": "code",
   "execution_count": 9,
   "metadata": {},
   "outputs": [
    {
     "data": {
      "image/png": "[encoded data removed]",
      "text/plain": [
       "<Figure size 864x864 with 1 Axes>"
      ]
     },
     "metadata": {
      "needs_background": "light"
     },
     "output_type": "display_data"
    }
   ],
   "source": [
    "rule_number = 110\n",
    "time=100\n",
    "length=100\n",
    "\n",
    "initial_condition = make_initial_conditions(length)\n",
    "\n",
    "lookup_table = create_lookup_table(rule_number)\n",
    "\n",
    "spacetime_field = evolve_CA(initial_condition, lookup_table, rule_number, time)\n",
    "\n",
    "plot_spacetime_field(spacetime_field)"
   ]
  },
  {
   "cell_type": "markdown",
   "metadata": {},
   "source": [
    "# Tests"
   ]
  },
  {
   "cell_type": "code",
   "execution_count": 10,
   "metadata": {},
   "outputs": [],
   "source": [
    "def test_create_lookup_table():\n",
    "    expected = {(0,0,0):0, (0,0,1):0, (0,1,0):0, (0,1,1):1, (1,0,0):1, (1,0,1):1, (1,1,0):1, (1,1,1):0}\n",
    "    observed = create_lookup_table(30)\n",
    "    assert expected == observed"
   ]
  },
  {
   "cell_type": "code",
   "execution_count": 11,
   "metadata": {},
   "outputs": [],
   "source": [
    "test_create_lookup_table()"
   ]
  },
  {
   "cell_type": "markdown",
   "metadata": {},
   "source": [
    "# 3 State Function (0, 1, 2)"
   ]
  },
  {
   "cell_type": "markdown",
   "metadata": {},
   "source": [
    "Assuming each cell depends on its neighboring cell to the left and its own value to determine the next value, there are $3\\times3=9$ neighborhoods we have to define and each neighborhood can take on 1 of 3 values, so there are a total of $3^{9}$ cellular automata "
   ]
  },
  {
   "cell_type": "code",
   "execution_count": 12,
   "metadata": {},
   "outputs": [],
   "source": [
    "def make_initial_conditions_ternary(length):\n",
    "    initial_condition = []\n",
    "    for i in range(length):\n",
    "        initial_condition.append(random.randint(0,2))\n",
    "    return initial_condition"
   ]
  },
  {
   "cell_type": "code",
   "execution_count": 13,
   "metadata": {},
   "outputs": [],
   "source": [
    "def make_ternary_neighborhoods():\n",
    "    '''\n",
    "    Create neighborhoods for the ternary case as tuples in lexicographical order\n",
    "    Inputs:\n",
    "    -------\n",
    "    None\n",
    "    \n",
    "    Returns:\n",
    "    ---------\n",
    "    neighborhoods: list\n",
    "        list of neighborhood tuples in lexicographical order\n",
    "    '''\n",
    "    neighborhoods = [(0,0), (0,1), (0,2), \n",
    "                     (1,0), (1,1), (1,2), \n",
    "                     (2,0), (2,1), (2,2)]\n",
    "    return neighborhoods"
   ]
  },
  {
   "cell_type": "code",
   "execution_count": 14,
   "metadata": {},
   "outputs": [],
   "source": [
    "def convert_rule_to_ternary(rule_number):\n",
    "    '''\n",
    "    Convert rule number to ternary\n",
    "    \n",
    "    Inputs:\n",
    "    --------\n",
    "    rule_number: int\n",
    "        rule number to be turned into ternary number between 0 and 3^27\n",
    "    \n",
    "    Returns:\n",
    "    --------\n",
    "    ternary: str\n",
    "        ternary string with length 9\n",
    "    '''\n",
    "    ternary = [3**i for i in range(9)]\n",
    "    in_ternary = ''\n",
    "    for place in reversed(ternary):\n",
    "        if place > rule_number:\n",
    "            in_ternary+='0'\n",
    "            continue #move onto next number\n",
    "        else:\n",
    "            if 2*place <= rule_number:\n",
    "                in_ternary += '2'\n",
    "                rule_number -= 2*place\n",
    "            elif place <= rule_number:\n",
    "                in_ternary += '1'\n",
    "                rule_number -= place\n",
    "            else:\n",
    "                in_ternary += '0'\n",
    "    return in_ternary"
   ]
  },
  {
   "cell_type": "code",
   "execution_count": 15,
   "metadata": {},
   "outputs": [],
   "source": [
    "def create_lookup_table_ternary(rule_number):\n",
    "    '''\n",
    "    Create a lookup table with ternary neighborhoods as keys and mapping to rule number converted to ternary\n",
    "    \n",
    "    Input:\n",
    "    ------\n",
    "    rule_number: int\n",
    "        rule number to be turned into ternary number between 0 and 3^27\n",
    "        \n",
    "    Returns:\n",
    "    --------\n",
    "    lookup_table: dict\n",
    "        lookup table mapping ternary neighborhoods to rule number in ternary\n",
    "    \n",
    "    '''\n",
    "    # create list of neighborhood tuples in lex. order\n",
    "    neighborhoods = make_ternary_neighborhoods()\n",
    "    \n",
    "    # convert the rule number to binary and pad with 0s as needed\n",
    "    in_ternary = convert_rule_to_ternary(rule_number)\n",
    "    \n",
    "    # create the lookup table dictionary\n",
    "    lookup_table = {key:int(val) for key, val in zip(neighborhoods, reversed(in_ternary))}\n",
    "    return lookup_table"
   ]
  },
  {
   "cell_type": "code",
   "execution_count": 16,
   "metadata": {
    "ExecuteTime": {
     "end_time": "2017-08-01T17:12:40.766342",
     "start_time": "2017-08-01T17:12:40.032692"
    }
   },
   "outputs": [],
   "source": [
    "def evolve_CA_ternary(initial_condition, lookup_table, rule_number, time):\n",
    "\n",
    "    # initialize spacetime field and current configuration\n",
    "    spacetime_field = [initial_condition]\n",
    "    current_configuration = initial_condition.copy()\n",
    "    length = len(initial_condition)\n",
    "    # apply the lookup table to evolve the CA for the given number of time steps\n",
    "    for t in range(time):\n",
    "        new_configuration = []\n",
    "        for i in range(len(current_configuration)):\n",
    "\n",
    "            neighborhood = (current_configuration[(i-1)], \n",
    "                            current_configuration[i])\n",
    "\n",
    "            new_configuration.append(int(lookup_table[neighborhood]))\n",
    "\n",
    "        current_configuration = new_configuration\n",
    "        spacetime_field.append(new_configuration)\n",
    "    return spacetime_field"
   ]
  },
  {
   "cell_type": "code",
   "execution_count": 17,
   "metadata": {},
   "outputs": [
    {
     "data": {
      "image/png": "[encoded data removed]",
      "text/plain": [
       "<Figure size 864x864 with 1 Axes>"
      ]
     },
     "metadata": {
      "needs_background": "light"
     },
     "output_type": "display_data"
    }
   ],
   "source": [
    "rule_number =48\n",
    "time=100\n",
    "length=100\n",
    "\n",
    "initial_condition = make_initial_conditions_ternary(length)\n",
    "\n",
    "lookup_table = create_lookup_table_ternary(rule_number)\n",
    "\n",
    "spacetime_field = evolve_CA_ternary(initial_condition, lookup_table, rule_number, time)\n",
    "\n",
    "plot_spacetime_field(spacetime_field)"
   ]
  },
  {
   "cell_type": "markdown",
   "metadata": {},
   "source": [
    "# Tests"
   ]
  },
  {
   "cell_type": "code",
   "execution_count": 18,
   "metadata": {},
   "outputs": [],
   "source": [
    "def test_make_initial_conditions_ternary():\n",
    "    '''Test that all values in initial conditions are either a 0, 1, or 2'''\n",
    "    observed = make_initial_conditions_ternary(10)\n",
    "    for i in observed:\n",
    "        assert i in (0,1,2)"
   ]
  },
  {
   "cell_type": "code",
   "execution_count": 19,
   "metadata": {},
   "outputs": [],
   "source": [
    "def test_make_ternary_neighborhoods():\n",
    "    '''Test that a random neighborhood exists'''\n",
    "    neighborhood = [random.randint(0,2) for i in range(2)]\n",
    "    ternary_neighborhoods = make_ternary_neighborhoods()\n",
    "    assert tuple(neighborhood) in ternary_neighborhoods, print(neighborhood)"
   ]
  },
  {
   "cell_type": "code",
   "execution_count": 20,
   "metadata": {},
   "outputs": [],
   "source": [
    "def test_ternary():\n",
    "    '''Test that rule 110 returns the correct ternary'''\n",
    "    expected = '000011002'\n",
    "    observed = convert_rule_to_ternary(110)\n",
    "    assert expected == observed"
   ]
  },
  {
   "cell_type": "code",
   "execution_count": 21,
   "metadata": {},
   "outputs": [],
   "source": [
    "def test_create_lookup_table_ternary_length():\n",
    "    '''Test that lookup table is correct length'''\n",
    "    expected = 9\n",
    "    lookup_table = create_lookup_table_ternary(110)\n",
    "    assert len(lookup_table) == expected"
   ]
  },
  {
   "cell_type": "code",
   "execution_count": 22,
   "metadata": {},
   "outputs": [],
   "source": [
    "def test_create_lookup_table_ternary():\n",
    "    '''test basic case of rule 1 maps to 1'''\n",
    "    expected = 1\n",
    "    lookup_table = create_lookup_table_ternary(1)\n",
    "    assert lookup_table[(0,0)]==expected"
   ]
  },
  {
   "cell_type": "code",
   "execution_count": 23,
   "metadata": {},
   "outputs": [],
   "source": [
    "def test_evolve_CA():\n",
    "    '''\n",
    "    Test specific evolution of rule 110\n",
    "    '''\n",
    "    rule_number = 110\n",
    "    time=2\n",
    "    initial_condition = [0,0,0,2,0,0,0]\n",
    "    expected = [0,0,0,0,2,0,0]\n",
    "    lookup_table = create_lookup_table_ternary(rule_number)\n",
    "    spacetime_field = evolve_CA_ternary(initial_condition, lookup_table, rule_number, time)\n",
    "    assert spacetime_field[-1] == expected, spacetime_field\n"
   ]
  },
  {
   "cell_type": "markdown",
   "metadata": {},
   "source": [
    "## Run Tests"
   ]
  },
  {
   "cell_type": "code",
   "execution_count": 24,
   "metadata": {},
   "outputs": [],
   "source": [
    "test_make_initial_conditions_ternary()"
   ]
  },
  {
   "cell_type": "code",
   "execution_count": 25,
   "metadata": {},
   "outputs": [],
   "source": [
    "test_make_ternary_neighborhoods()"
   ]
  },
  {
   "cell_type": "code",
   "execution_count": 26,
   "metadata": {},
   "outputs": [],
   "source": [
    "test_ternary()"
   ]
  },
  {
   "cell_type": "code",
   "execution_count": 27,
   "metadata": {},
   "outputs": [],
   "source": [
    "test_create_lookup_table_ternary_length()\n",
    "test_create_lookup_table_ternary()"
   ]
  },
  {
   "cell_type": "code",
   "execution_count": 28,
   "metadata": {},
   "outputs": [],
   "source": [
    "test_evolve_CA()"
   ]
  },
  {
   "cell_type": "code",
   "execution_count": null,
   "metadata": {},
   "outputs": [],
   "source": []
  }
 ],
 "metadata": {
  "kernelspec": {
   "display_name": "Python 3",
   "language": "python",
   "name": "python3"
  },
  "language_info": {
   "codemirror_mode": {
    "name": "ipython",
    "version": 3
   },
   "file_extension": ".py",
   "mimetype": "text/x-python",
   "name": "python",
   "nbconvert_exporter": "python",
   "pygments_lexer": "ipython3",
   "version": "3.7.3"
  }
 },
 "nbformat": 4,
 "nbformat_minor": 1
}
